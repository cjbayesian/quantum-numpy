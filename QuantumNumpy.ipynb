{
 "cells": [
  {
   "cell_type": "markdown",
   "metadata": {},
   "source": [
    "# Simulating Quantum Circuits in Numpy \n",
    "\n",
    "> Corey Chivers, PhD. Corey.Chivers@pennmedicine.upenn.edu\n",
    "\n",
    "The aim here is to gain a basic understanding of quantum computation by building up the mathematics in python and ultimately building a quantum circuit simulator using only numpy (so it won't be so mysterious to a Data Scientist like me!). This notebook is not meant to be a stand-alone introduction to quantum computing. It is rather the notes I took as I worked through a variety of excellent, and not-so excellent tutorials I found across the web.\n",
    "\n",
    "In the excellent category, I would firmly place Andy Matuschak and Michael Nielsen's experimental essay [Quantum computing for the very curious](https://quantum.country/qcvc).\n",
    "\n",
    "Additional Resources:\n",
    "- https://www.quantum-inspire.com/kbase/what-is-a-quantum-algorithm\n",
    "- https://en.wikipedia.org/wiki/Bloch_sphere\n",
    "- http://qutip.org/docs/4.1/guide/guide-bloch.html"
   ]
  },
  {
   "cell_type": "code",
   "execution_count": 1,
   "metadata": {},
   "outputs": [
    {
     "name": "stdout",
     "output_type": "stream",
     "text": [
      "Populating the interactive namespace from numpy and matplotlib\n"
     ]
    }
   ],
   "source": [
    "%pylab inline"
   ]
  },
  {
   "cell_type": "markdown",
   "metadata": {},
   "source": [
    "# Qubits"
   ]
  },
  {
   "cell_type": "markdown",
   "metadata": {},
   "source": [
    "We'll fist create the base states $\\vert 0 \\rangle$ and $\\vert 1 \\rangle$ from which any state $\\vert \\psi \\rangle$ can be constructed as $\\alpha \\vert 0 \\rangle + \\beta \\vert 1 \\rangle$."
   ]
  },
  {
   "cell_type": "code",
   "execution_count": 2,
   "metadata": {},
   "outputs": [
    {
     "data": {
      "text/plain": [
       "(array([1.+0.j, 0.+0.j]), array([0.+0.j, 1.+0.j]))"
      ]
     },
     "execution_count": 2,
     "metadata": {},
     "output_type": "execute_result"
    }
   ],
   "source": [
    "c_one = np.complex(1,0)\n",
    "c_zero = np.complex(0,0)\n",
    "\n",
    "ket_zero = np.array([c_one, c_zero])\n",
    "ket_one = np.array([c_zero, c_one])\n",
    "\n",
    "ket_zero, ket_one"
   ]
  },
  {
   "cell_type": "markdown",
   "metadata": {},
   "source": [
    "There is a normalization constraint on the state of a qubit such that $|\\alpha|^2 + |\\beta|^2 = 1$.\n",
    "\n",
    "Let's make a little function to generate a random qubit state, which is just a vector in the Hilbert space as above following the normalization constraint."
   ]
  },
  {
   "cell_type": "code",
   "execution_count": 3,
   "metadata": {},
   "outputs": [
    {
     "data": {
      "text/plain": [
       "array([ 0.5476963 +0.19777925j, -0.79331184-0.17767515j])"
      ]
     },
     "execution_count": 3,
     "metadata": {},
     "output_type": "execute_result"
    }
   ],
   "source": [
    "def random_state():\n",
    "    r1, i1, r2, i2 = np.random.uniform(-1,1,4)\n",
    "    alpha = np.complex(r1, i1)\n",
    "    beta = np.complex(r2, i2)\n",
    "    norm = np.sqrt(np.absolute(alpha)**2 + np.absolute(beta)**2)\n",
    "    alpha, beta = alpha/norm,  beta/norm\n",
    "    return np.array([alpha, beta])\n",
    "\n",
    "psi = random_state()\n",
    "psi"
   ]
  },
  {
   "cell_type": "markdown",
   "metadata": {},
   "source": [
    "## Gates"
   ]
  },
  {
   "cell_type": "markdown",
   "metadata": {},
   "source": [
    "Much as in classical computing, the concept of a gate is central to the quantum circuit. Gates can be written as transformations of the state vector.\n",
    "\n",
    "The simplest is the $X$ gate, analogous to the classical NOT gate: $= \\begin{bmatrix} \n",
    "0 & 1 \\\\\n",
    "1 & 0 \\\\\n",
    "\\end{bmatrix}$"
   ]
  },
  {
   "cell_type": "code",
   "execution_count": 4,
   "metadata": {},
   "outputs": [
    {
     "data": {
      "text/plain": [
       "array([[0, 1],\n",
       "       [1, 0]])"
      ]
     },
     "execution_count": 4,
     "metadata": {},
     "output_type": "execute_result"
    }
   ],
   "source": [
    "Chi_gate = np.array([[0,1],[1,0]])\n",
    "Chi_gate"
   ]
  },
  {
   "cell_type": "markdown",
   "metadata": {},
   "source": [
    "Matrix multiplication of a qubit in one of the two computational basis states has the expected effect of flipping the state to the other computational basis."
   ]
  },
  {
   "cell_type": "code",
   "execution_count": 5,
   "metadata": {},
   "outputs": [
    {
     "data": {
      "text/plain": [
       "array([0.+0.j, 1.+0.j])"
      ]
     },
     "execution_count": 5,
     "metadata": {},
     "output_type": "execute_result"
    }
   ],
   "source": [
    "Chi_gate@ket_zero"
   ]
  },
  {
   "cell_type": "code",
   "execution_count": 6,
   "metadata": {},
   "outputs": [
    {
     "data": {
      "text/plain": [
       "array([1.+0.j, 0.+0.j])"
      ]
     },
     "execution_count": 6,
     "metadata": {},
     "output_type": "execute_result"
    }
   ],
   "source": [
    "Chi_gate@ket_one"
   ]
  },
  {
   "cell_type": "markdown",
   "metadata": {},
   "source": [
    "The Hadamard gate, $H := {{1}\\over{\\sqrt{2}}}\n",
    "\\begin{bmatrix} \n",
    "1 & 1 \\\\\n",
    "1 & -1 \\\\\n",
    "\\end{bmatrix}\n",
    "$\n",
    "\n",
    "is a key gate in quantum computing, for reasons we'll see later."
   ]
  },
  {
   "cell_type": "code",
   "execution_count": 7,
   "metadata": {},
   "outputs": [
    {
     "data": {
      "text/plain": [
       "array([[ 0.70710678,  0.70710678],\n",
       "       [ 0.70710678, -0.70710678]])"
      ]
     },
     "execution_count": 7,
     "metadata": {},
     "output_type": "execute_result"
    }
   ],
   "source": [
    "H_gate = 1/np.sqrt(2.0) * np.array([[1,1],[1,-1]])\n",
    "H_gate"
   ]
  },
  {
   "cell_type": "code",
   "execution_count": 8,
   "metadata": {},
   "outputs": [
    {
     "data": {
      "text/plain": [
       "array([0.70710678+0.j, 0.70710678+0.j])"
      ]
     },
     "execution_count": 8,
     "metadata": {},
     "output_type": "execute_result"
    }
   ],
   "source": [
    "H_gate@ket_zero"
   ]
  },
  {
   "cell_type": "code",
   "execution_count": 9,
   "metadata": {},
   "outputs": [
    {
     "data": {
      "text/plain": [
       "array([ 0.70710678+0.j, -0.70710678+0.j])"
      ]
     },
     "execution_count": 9,
     "metadata": {},
     "output_type": "execute_result"
    }
   ],
   "source": [
    "H_gate@ket_one"
   ]
  },
  {
   "cell_type": "markdown",
   "metadata": {},
   "source": [
    "The identity matrix is equivilant to a wire (does not change the state of a qubit):"
   ]
  },
  {
   "cell_type": "code",
   "execution_count": 10,
   "metadata": {},
   "outputs": [],
   "source": [
    "I_gate = np.array([[1,0],[0,1]])"
   ]
  },
  {
   "cell_type": "markdown",
   "metadata": {},
   "source": [
    "## Visualizing Qubits\n",
    "\n",
    "A common way to visualize the quantum state of a qubit is a Bloch Sphere. This transforms the vector space in such a way as to have the antipodal points correspond the two mutually orthogonal state vectors. Instead, here I'll represent the pure state of a qubit using the complex plane. By using the colors blue and red for the $\\alpha$, and $\\beta$ coefficients, respectively, we can see the state projected as these two vectors in the complex plane.\n",
    "\n",
    "Since the computational basis states are what we're interested in at the end of a quantum computation, I'll also plot the probability distribution of observations predicted by a qubit in the given state."
   ]
  },
  {
   "cell_type": "code",
   "execution_count": 11,
   "metadata": {},
   "outputs": [
    {
     "data": {
      "image/png": "[encoded data removed]",
      "text/plain": [
       "<Figure size 504x216 with 2 Axes>"
      ]
     },
     "metadata": {
      "needs_background": "light"
     },
     "output_type": "display_data"
    }
   ],
   "source": [
    "def plt_state_as_vecs(psi):\n",
    "    ket_alpha, ket_beta = psi\n",
    "    fig, axx = plt.subplots(1,2, figsize=(7,3))\n",
    "    ax = axx[0]\n",
    "    ax.axhline(0,ls='--',color='grey',alpha=0.2)\n",
    "    ax.axvline(0,ls='--',color='grey',alpha=0.2)\n",
    "    ax.plot(0, 0, color='blue',label=r'$\\vert 0 \\rangle$')\n",
    "    ax.plot(0, 0, color='red',label=r'$\\vert 1 \\rangle$')\n",
    "    ax.arrow(0,0,ket_alpha.real, ket_alpha.imag, head_width=0.05, head_length=0.1, color='blue')\n",
    "    ax.arrow(0,0,ket_beta.real, ket_beta.imag, head_width=0.05, head_length=0.1, \n",
    "             color='red')\n",
    "\n",
    "    ax.set_xlim([-1,1])\n",
    "    ax.set_ylim([-1,1])\n",
    "    ax.set_xlabel('real')\n",
    "    ax.set_ylabel(r'$i$')\n",
    "    ax.legend(loc=0)\n",
    "    \n",
    "    ax = axx[1]\n",
    "    pr_zero, pr_one = np.absolute(psi[0])**2, np.absolute(psi[1])**2\n",
    "    ax.bar([0,1],[pr_zero, pr_one])\n",
    "    ax.set_xticks([0,1])\n",
    "    ax.set_xticklabels([r'$\\vert 0 \\rangle$',r'$\\vert 1 \\rangle$'])\n",
    "    ax.set_ylim(0,1)\n",
    "    ax.grid(True)\n",
    "    \n",
    "    plt.tight_layout()\n",
    "\n",
    "plt_state_as_vecs(H_gate@ket_one)"
   ]
  },
  {
   "cell_type": "markdown",
   "metadata": {},
   "source": [
    "Initiate a qubit in a random pure state: "
   ]
  },
  {
   "cell_type": "code",
   "execution_count": 12,
   "metadata": {},
   "outputs": [
    {
     "name": "stdout",
     "output_type": "stream",
     "text": [
      "0.24945530609365701\n"
     ]
    },
    {
     "data": {
      "image/png": "[encoded data removed]",
      "text/plain": [
       "<Figure size 504x216 with 2 Axes>"
      ]
     },
     "metadata": {
      "needs_background": "light"
     },
     "output_type": "display_data"
    }
   ],
   "source": [
    "psi = random_state()\n",
    "print(np.absolute(psi[0])**2)\n",
    "plt_state_as_vecs(psi)"
   ]
  },
  {
   "cell_type": "markdown",
   "metadata": {},
   "source": [
    "Observe that the $X$ gate swaps the component vectors:"
   ]
  },
  {
   "cell_type": "code",
   "execution_count": 13,
   "metadata": {
    "scrolled": false
   },
   "outputs": [
    {
     "name": "stdout",
     "output_type": "stream",
     "text": [
      "0.7505446939063434\n"
     ]
    },
    {
     "data": {
      "image/png": "[encoded data removed]",
      "text/plain": [
       "<Figure size 504x216 with 2 Axes>"
      ]
     },
     "metadata": {
      "needs_background": "light"
     },
     "output_type": "display_data"
    }
   ],
   "source": [
    "psi_n = Chi_gate@psi\n",
    "print(np.absolute(psi_n[0])**2)\n",
    "plt_state_as_vecs(psi_n)"
   ]
  },
  {
   "cell_type": "markdown",
   "metadata": {},
   "source": [
    "And that indeed, the total probability over computational basis states is equal to one"
   ]
  },
  {
   "cell_type": "code",
   "execution_count": 14,
   "metadata": {},
   "outputs": [
    {
     "data": {
      "text/plain": [
       "1.0000000000000004"
      ]
     },
     "execution_count": 14,
     "metadata": {},
     "output_type": "execute_result"
    }
   ],
   "source": [
    "np.absolute(psi[0])**2 + np.absolute(psi[1])**2"
   ]
  },
  {
   "cell_type": "code",
   "execution_count": 15,
   "metadata": {},
   "outputs": [
    {
     "data": {
      "image/png": "[encoded data removed]",
      "text/plain": [
       "<Figure size 504x216 with 2 Axes>"
      ]
     },
     "metadata": {
      "needs_background": "light"
     },
     "output_type": "display_data"
    }
   ],
   "source": [
    "plt_state_as_vecs(ket_zero)"
   ]
  },
  {
   "cell_type": "code",
   "execution_count": 16,
   "metadata": {},
   "outputs": [
    {
     "data": {
      "image/png": "[encoded data removed]",
      "text/plain": [
       "<Figure size 504x216 with 2 Axes>"
      ]
     },
     "metadata": {
      "needs_background": "light"
     },
     "output_type": "display_data"
    }
   ],
   "source": [
    "plt_state_as_vecs(H_gate@ket_zero)"
   ]
  },
  {
   "cell_type": "code",
   "execution_count": 17,
   "metadata": {},
   "outputs": [
    {
     "data": {
      "image/png": "[encoded data removed]",
      "text/plain": [
       "<Figure size 504x216 with 2 Axes>"
      ]
     },
     "metadata": {
      "needs_background": "light"
     },
     "output_type": "display_data"
    }
   ],
   "source": [
    "plt_state_as_vecs(H_gate@ket_one)"
   ]
  },
  {
   "cell_type": "markdown",
   "metadata": {},
   "source": [
    "The Hadamard gate twice results in a quantum wire."
   ]
  },
  {
   "cell_type": "code",
   "execution_count": 18,
   "metadata": {},
   "outputs": [
    {
     "data": {
      "image/png": "[encoded data removed]",
      "text/plain": [
       "<Figure size 504x216 with 2 Axes>"
      ]
     },
     "metadata": {
      "needs_background": "light"
     },
     "output_type": "display_data"
    }
   ],
   "source": [
    "plt_state_as_vecs(H_gate@(H_gate@ket_zero))"
   ]
  },
  {
   "cell_type": "code",
   "execution_count": 19,
   "metadata": {
    "scrolled": false
   },
   "outputs": [
    {
     "data": {
      "image/png": "[encoded data removed]",
      "text/plain": [
       "<Figure size 504x216 with 2 Axes>"
      ]
     },
     "metadata": {
      "needs_background": "light"
     },
     "output_type": "display_data"
    }
   ],
   "source": [
    "plt_state_as_vecs(H_gate@(H_gate@ket_one))"
   ]
  },
  {
   "cell_type": "code",
   "execution_count": 20,
   "metadata": {},
   "outputs": [
    {
     "data": {
      "text/plain": [
       "array([[1., 0.],\n",
       "       [0., 1.]])"
      ]
     },
     "execution_count": 20,
     "metadata": {},
     "output_type": "execute_result"
    }
   ],
   "source": [
    "H_gate@H_gate"
   ]
  },
  {
   "cell_type": "markdown",
   "metadata": {},
   "source": [
    "So for an arbitrary quantum state $\\vert \\psi \\rangle$ to the circuit, then the output must be $HH \\vert \\psi \\rangle = I \\vert \\psi \\rangle = \\vert \\psi \\rangle$"
   ]
  },
  {
   "cell_type": "code",
   "execution_count": 21,
   "metadata": {},
   "outputs": [
    {
     "data": {
      "image/png": "[encoded data removed]",
      "text/plain": [
       "<Figure size 504x216 with 2 Axes>"
      ]
     },
     "metadata": {
      "needs_background": "light"
     },
     "output_type": "display_data"
    }
   ],
   "source": [
    "plt_state_as_vecs(Chi_gate@(H_gate@ket_one))"
   ]
  },
  {
   "cell_type": "markdown",
   "metadata": {},
   "source": [
    "### Measurement in the computational basis\n",
    "\n",
    "This is a fundamental primitive in quantum computing: it’s the way we typically extract information from our quantum computers. Suppose a qubit is in the state $\\alpha|0\\rangle+\\beta|1\\rangle$. When you measure this qubit in the computational basis it gives you a classical bit of information: it gives you the outcome 0 with probability $|\\alpha|^2$, and the outcome 1 with probability $|\\beta|^2$."
   ]
  },
  {
   "cell_type": "code",
   "execution_count": 22,
   "metadata": {},
   "outputs": [],
   "source": [
    "def comp_basis_meas(psi):\n",
    "    pr_zero = np.absolute(psi[0])**2\n",
    "    U = np.random.uniform()\n",
    "    if pr_zero > U:\n",
    "        return 0\n",
    "    else:\n",
    "        return 1"
   ]
  },
  {
   "attachments": {
    "image.png": {
     "image/png": "[encoded data removed]"
    }
   },
   "cell_type": "markdown",
   "metadata": {},
   "source": [
    "Let's do the following computational basis measurement:\n",
    "\n",
    "![https://github.com/cjbayesian/quantum-numpy/raw/master/circuit1.png](attachment:image.png)"
   ]
  },
  {
   "cell_type": "code",
   "execution_count": 23,
   "metadata": {},
   "outputs": [
    {
     "data": {
      "text/plain": [
       "0"
      ]
     },
     "execution_count": 23,
     "metadata": {},
     "output_type": "execute_result"
    }
   ],
   "source": [
    "register = H_gate@(Chi_gate@ket_one)\n",
    "comp_basis_meas(register)"
   ]
  },
  {
   "cell_type": "code",
   "execution_count": 24,
   "metadata": {},
   "outputs": [
    {
     "data": {
      "text/plain": [
       "0"
      ]
     },
     "execution_count": 24,
     "metadata": {},
     "output_type": "execute_result"
    }
   ],
   "source": [
    "comp_basis_meas(register)"
   ]
  },
  {
   "cell_type": "code",
   "execution_count": 25,
   "metadata": {},
   "outputs": [
    {
     "data": {
      "text/plain": [
       "1"
      ]
     },
     "execution_count": 25,
     "metadata": {},
     "output_type": "execute_result"
    }
   ],
   "source": [
    "comp_basis_meas(register)"
   ]
  },
  {
   "cell_type": "code",
   "execution_count": 26,
   "metadata": {},
   "outputs": [
    {
     "data": {
      "text/plain": [
       "0"
      ]
     },
     "execution_count": 26,
     "metadata": {},
     "output_type": "execute_result"
    }
   ],
   "source": [
    "comp_basis_meas(Chi_gate@ket_one)"
   ]
  },
  {
   "cell_type": "markdown",
   "metadata": {},
   "source": [
    "Qubit gates are always unitary. That is, \n",
    "$$\n",
    "U^\\dagger U = I\n",
    "$$\n",
    "\n",
    "Where the dagger operator is the _adjoint_, or _complex transpose_, or _Hermitian conjugate_, or just _conjugate_.\n",
    "\n",
    "More explicitly, in matrix form,\n",
    "\n",
    "$$\n",
    "\\left[ \\begin{array}{cc}\n",
    "a & b \\\\\n",
    "c & d \n",
    "\\end{array} \n",
    "\\right]^\\dagger = \n",
    "\\left[ \\begin{array}{cc} \n",
    "a^* & c^* \\\\\n",
    "b^* & d^*\n",
    "\\end{array}\n",
    "\\right]\n",
    "$$"
   ]
  },
  {
   "cell_type": "markdown",
   "metadata": {},
   "source": [
    "Where $x^*$ is the complex conjugate. This is just the mapping of $a+bi \\mapsto a-bi$.\n",
    "\n",
    "**Unitary gates preserve the length of their inputs.** In a sense, the unitary matrices are a complex generalization of real rotations and reflections."
   ]
  },
  {
   "cell_type": "code",
   "execution_count": 27,
   "metadata": {},
   "outputs": [
    {
     "data": {
      "text/plain": [
       "(True, True)"
      ]
     },
     "execution_count": 27,
     "metadata": {},
     "output_type": "execute_result"
    }
   ],
   "source": [
    "def dagger(u):\n",
    "    ut = np.conj(u.T)\n",
    "    return ut\n",
    "\n",
    "def is_unitary(U, tol = 2e-10):\n",
    "    I = np.diag(np.ones(U.shape[0]))\n",
    "    U_dagger_U = dagger(U)@U\n",
    "    return ((U_dagger_U - I)**2 < tol).mean() == 1\n",
    "\n",
    "# Check is unitary\n",
    "is_unitary(Chi_gate), is_unitary(H_gate)"
   ]
  },
  {
   "cell_type": "markdown",
   "metadata": {},
   "source": [
    "### Pauli Matrices (X, Y, Z gates)\n",
    "\n",
    "We've already seen the $X$ or 'NOT' gate. The $Y$ gate is similar to the $X$ gate, but instead of 1s on the off-diagonal, it has $i$ and $−i$, so it takes $|0\\rangle$to $i|1\\rangle$ and $|1\\rangle$ to $-i|0\\rangle$:\n",
    "\n",
    "$$\n",
    "Y := \\left[ \\begin{array}{cc} \n",
    "0 & -i \\\\ \n",
    "i & 0 \\end{array} \\right].\n",
    "$$\n",
    "\n",
    "The $Z$ gate leaves $|0\\rangle$ unchanged, and takes $|1\\rangle$ to $-|1\\rangle$:\n",
    "\n",
    "$$\n",
    "Z := \\left[ \\begin{array}{cc} \n",
    "1 & 0 \\\\\n",
    "0 & -1 \\end{array} \\right].\n",
    "$$\n"
   ]
  },
  {
   "cell_type": "code",
   "execution_count": 28,
   "metadata": {},
   "outputs": [
    {
     "data": {
      "text/plain": [
       "array([[ 1,  0],\n",
       "       [ 0, -1]])"
      ]
     },
     "execution_count": 28,
     "metadata": {},
     "output_type": "execute_result"
    }
   ],
   "source": [
    "Z_gate = np.array([[1,0],[0,-1]])\n",
    "Z_gate"
   ]
  },
  {
   "cell_type": "markdown",
   "metadata": {},
   "source": [
    "There is also a rotation gate:\n",
    "\n",
    "$$\n",
    "\\left[ \\begin{array}{cc} \n",
    "\\cos(\\theta) & -\\sin(\\theta) \\\\\n",
    "\\sin(\\theta) & \\cos(\\theta) \n",
    "\\end{array} \\right].\n",
    "$$\n",
    "\n",
    "And many others, but let's move on to putting these into a more interesting circuit."
   ]
  },
  {
   "cell_type": "markdown",
   "metadata": {},
   "source": [
    "## 2-qubit Circuit\n"
   ]
  },
  {
   "cell_type": "code",
   "execution_count": 29,
   "metadata": {},
   "outputs": [
    {
     "data": {
      "text/plain": [
       "['00', '10', '01', '11']"
      ]
     },
     "execution_count": 29,
     "metadata": {},
     "output_type": "execute_result"
    }
   ],
   "source": [
    "def string_rep_states(n_qubits=3):\n",
    "    state_strs = ['' for _ in range(2**n_qubits)]\n",
    "    basis_strs = ['0', '1']\n",
    "\n",
    "    for q in range(n_qubits):\n",
    "        for i in range(len(state_strs)):\n",
    "            b = basis_strs[((i//(2**q))) % 2]\n",
    "            state_strs[i] =  state_strs[i] + b\n",
    "\n",
    "    return state_strs\n",
    "\n",
    "string_rep_states(2)"
   ]
  },
  {
   "attachments": {
    "image.png": {
     "image/png": "[encoded data removed]"
    }
   },
   "cell_type": "markdown",
   "metadata": {},
   "source": [
    "![https://github.com/cjbayesian/quantum-numpy/raw/master/h_cnot_circuit.png](attachment:image.png)"
   ]
  },
  {
   "cell_type": "code",
   "execution_count": 30,
   "metadata": {},
   "outputs": [
    {
     "data": {
      "text/plain": [
       "array([ 0.70710678+0.j, -0.70710678+0.j])"
      ]
     },
     "execution_count": 30,
     "metadata": {},
     "output_type": "execute_result"
    }
   ],
   "source": [
    "s1 = ket_one@H_gate\n",
    "s1"
   ]
  },
  {
   "cell_type": "code",
   "execution_count": 31,
   "metadata": {},
   "outputs": [
    {
     "data": {
      "text/plain": [
       "array([ 0.70710678+0.j, -0.70710678+0.j,  1.        +0.j,  0.        +0.j])"
      ]
     },
     "execution_count": 31,
     "metadata": {},
     "output_type": "execute_result"
    }
   ],
   "source": [
    "s1 = np.concatenate([s1,ket_zero])\n",
    "s1"
   ]
  },
  {
   "cell_type": "code",
   "execution_count": 32,
   "metadata": {},
   "outputs": [],
   "source": [
    "cnot = np.array([[1,0,0,0],\n",
    "                 [0,1,0,0],\n",
    "                 [0,0,0,1],\n",
    "                 [0,0,1,0]])"
   ]
  },
  {
   "cell_type": "code",
   "execution_count": 33,
   "metadata": {},
   "outputs": [
    {
     "data": {
      "text/plain": [
       "array([ 0.70710678+0.j, -0.70710678+0.j,  0.        +0.j,  1.        +0.j])"
      ]
     },
     "execution_count": 33,
     "metadata": {},
     "output_type": "execute_result"
    }
   ],
   "source": [
    "s2 = s1@cnot\n",
    "s2"
   ]
  },
  {
   "cell_type": "code",
   "execution_count": 34,
   "metadata": {},
   "outputs": [
    {
     "data": {
      "text/plain": [
       "array([[1, 0],\n",
       "       [0, 1]])"
      ]
     },
     "execution_count": 34,
     "metadata": {},
     "output_type": "execute_result"
    }
   ],
   "source": [
    "I_gate"
   ]
  },
  {
   "cell_type": "code",
   "execution_count": 35,
   "metadata": {},
   "outputs": [
    {
     "data": {
      "text/plain": [
       "array([[1, 0, 0, 0],\n",
       "       [0, 1, 0, 0],\n",
       "       [0, 0, 0, 1],\n",
       "       [0, 0, 1, 0]])"
      ]
     },
     "execution_count": 35,
     "metadata": {},
     "output_type": "execute_result"
    }
   ],
   "source": [
    "cnot"
   ]
  },
  {
   "cell_type": "code",
   "execution_count": 36,
   "metadata": {},
   "outputs": [
    {
     "data": {
      "text/plain": [
       "array([[1, 0],\n",
       "       [0, 1]])"
      ]
     },
     "execution_count": 36,
     "metadata": {},
     "output_type": "execute_result"
    }
   ],
   "source": [
    "np.kron(np.array([1]), I_gate)"
   ]
  },
  {
   "cell_type": "code",
   "execution_count": 37,
   "metadata": {},
   "outputs": [
    {
     "data": {
      "text/plain": [
       "array([0.5, 0. , 0. , 0.5])"
      ]
     },
     "execution_count": 37,
     "metadata": {},
     "output_type": "execute_result"
    }
   ],
   "source": [
    "def build_gate_mat(gates):\n",
    "    gmat = np.array([1])\n",
    "    for g in gates:\n",
    "        gmat = np.kron(gmat, g)\n",
    "    return gmat\n",
    "\n",
    "def basis_state_probs(svec):\n",
    "    return np.array([np.absolute(s)**2 for s in svec])\n",
    "\n",
    "\n",
    "register = build_gate_mat([ket_zero, ket_zero]) # |0>, |0>  2 Input qubits in the 0 computational basis state\n",
    "gates1 = [H_gate, I_gate]\n",
    "gates2 = [cnot]\n",
    "\n",
    "g1 = build_gate_mat(gates1)\n",
    "g2 = build_gate_mat(gates2)\n",
    "\n",
    "out_register = register@g1@g2\n",
    "basis_state_probs(out_register)"
   ]
  },
  {
   "cell_type": "code",
   "execution_count": 38,
   "metadata": {},
   "outputs": [
    {
     "data": {
      "text/plain": [
       "[('00', 0.4999999999999999),\n",
       " ('10', 0.0),\n",
       " ('01', 0.0),\n",
       " ('11', 0.4999999999999999)]"
      ]
     },
     "execution_count": 38,
     "metadata": {},
     "output_type": "execute_result"
    }
   ],
   "source": [
    "list(zip(string_rep_states(2), basis_state_probs(out_register)))"
   ]
  },
  {
   "cell_type": "markdown",
   "metadata": {},
   "source": [
    "This is **quantum entanglement!!!** After going through this circuit, the computational basis states of these two qubits will be forever perfectly correlated when measured! There is an equal chance we'll measure 00 or 11, but never 01, or 10."
   ]
  },
  {
   "cell_type": "code",
   "execution_count": 39,
   "metadata": {},
   "outputs": [
    {
     "data": {
      "text/plain": [
       "array([0.5, 0. , 0. , 0.5])"
      ]
     },
     "execution_count": 39,
     "metadata": {},
     "output_type": "execute_result"
    }
   ],
   "source": [
    "basis_state_probs(g2@g1@register)"
   ]
  },
  {
   "cell_type": "code",
   "execution_count": 40,
   "metadata": {},
   "outputs": [
    {
     "data": {
      "text/plain": [
       "array([1.+0.j, 0.+0.j, 0.+0.j, 0.+0.j])"
      ]
     },
     "execution_count": 40,
     "metadata": {},
     "output_type": "execute_result"
    }
   ],
   "source": [
    "register"
   ]
  },
  {
   "cell_type": "code",
   "execution_count": 41,
   "metadata": {},
   "outputs": [
    {
     "data": {
      "text/plain": [
       "array([[ 0.70710678,  0.        ,  0.70710678,  0.        ],\n",
       "       [ 0.        ,  0.70710678,  0.        ,  0.70710678],\n",
       "       [ 0.70710678,  0.        , -0.70710678, -0.        ],\n",
       "       [ 0.        ,  0.70710678, -0.        , -0.70710678]])"
      ]
     },
     "execution_count": 41,
     "metadata": {},
     "output_type": "execute_result"
    }
   ],
   "source": [
    "g1"
   ]
  },
  {
   "cell_type": "code",
   "execution_count": 42,
   "metadata": {},
   "outputs": [
    {
     "data": {
      "text/plain": [
       "array([[1, 0, 0, 0],\n",
       "       [0, 1, 0, 0],\n",
       "       [0, 0, 0, 1],\n",
       "       [0, 0, 1, 0]])"
      ]
     },
     "execution_count": 42,
     "metadata": {},
     "output_type": "execute_result"
    }
   ],
   "source": [
    "g2"
   ]
  },
  {
   "cell_type": "code",
   "execution_count": 43,
   "metadata": {},
   "outputs": [
    {
     "data": {
      "text/plain": [
       "array([0.70710678+0.j, 0.        +0.j, 0.70710678+0.j, 0.        +0.j])"
      ]
     },
     "execution_count": 43,
     "metadata": {},
     "output_type": "execute_result"
    }
   ],
   "source": [
    "register@g1"
   ]
  },
  {
   "cell_type": "code",
   "execution_count": 44,
   "metadata": {},
   "outputs": [
    {
     "data": {
      "text/plain": [
       "array([0.70710678+0.j, 0.        +0.j, 0.        +0.j, 0.70710678+0.j])"
      ]
     },
     "execution_count": 44,
     "metadata": {},
     "output_type": "execute_result"
    }
   ],
   "source": [
    "out_register"
   ]
  },
  {
   "cell_type": "code",
   "execution_count": 45,
   "metadata": {},
   "outputs": [
    {
     "data": {
      "text/plain": [
       "['000', '100', '010', '110', '001', '101', '011', '111']"
      ]
     },
     "execution_count": 45,
     "metadata": {},
     "output_type": "execute_result"
    }
   ],
   "source": [
    "string_rep_states(3)"
   ]
  },
  {
   "cell_type": "code",
   "execution_count": 46,
   "metadata": {},
   "outputs": [],
   "source": [
    "def plt_measure(out_register):\n",
    "    n_qubits = int(np.log2(out_register.shape[0]))\n",
    "    fig, ax = plt.subplots(1,1)\n",
    "    ax.bar(range(2**n_qubits), basis_state_probs(out_register))\n",
    "    ax.set_xticks(range(2**n_qubits))\n",
    "    ax.set_xticklabels(string_rep_states(n_qubits))\n",
    "    ax.set_ylim(-0,1)\n",
    "    ax.grid(True)\n",
    "    ax.set_ylabel(r'$P(S_c)$')\n",
    "    ax.set_xlabel(r'$S_c$')\n",
    "    plt.show()"
   ]
  },
  {
   "cell_type": "code",
   "execution_count": 47,
   "metadata": {},
   "outputs": [
    {
     "data": {
      "image/png": "[encoded data removed]",
      "text/plain": [
       "<Figure size 432x288 with 1 Axes>"
      ]
     },
     "metadata": {
      "needs_background": "light"
     },
     "output_type": "display_data"
    }
   ],
   "source": [
    "plt_measure(register@g1@g2)"
   ]
  },
  {
   "cell_type": "markdown",
   "metadata": {},
   "source": [
    "# Toffoli Gate\n",
    "\n",
    "The Toffoli Gate is a 3-qubit equivilant to the classical AND operation. It is like the CNOT, but has 2 control qubits and one target. One way to build a Toffoli gate is by composition of multiple 1 and 2 qubit gates. One of these decompositions is:"
   ]
  },
  {
   "attachments": {
    "image.png": {
     "image/png": "[encoded data removed]"
    }
   },
   "cell_type": "markdown",
   "metadata": {},
   "source": [
    "![https://github.com/cjbayesian/quantum-numpy/raw/master/tofolli.png](attachment:image.png)"
   ]
  },
  {
   "cell_type": "markdown",
   "metadata": {},
   "source": [
    "Let's implement this 3-qubit circuit entirely in numpy."
   ]
  },
  {
   "cell_type": "code",
   "execution_count": 48,
   "metadata": {},
   "outputs": [
    {
     "data": {
      "text/plain": [
       "array([[1.        +0.j        , 0.        +0.j        ],\n",
       "       [0.        +0.j        , 0.70710678+0.70710678j]])"
      ]
     },
     "execution_count": 48,
     "metadata": {},
     "output_type": "execute_result"
    }
   ],
   "source": [
    "T_gate = np.array([[1,0],\n",
    "                   [0,np.exp(np.complex(0,np.pi/4.))]])\n",
    "T_gate"
   ]
  },
  {
   "cell_type": "code",
   "execution_count": 49,
   "metadata": {},
   "outputs": [
    {
     "data": {
      "text/plain": [
       "array([[1.        -0.j        , 0.        -0.j        ],\n",
       "       [0.        -0.j        , 0.70710678-0.70710678j]])"
      ]
     },
     "execution_count": 49,
     "metadata": {},
     "output_type": "execute_result"
    }
   ],
   "source": [
    "dagger(T_gate)"
   ]
  },
  {
   "cell_type": "code",
   "execution_count": 50,
   "metadata": {},
   "outputs": [],
   "source": [
    "## Cnot gate where the control qubit is q1 and the target is q3\n",
    "## Written out explicitly instead of as the kronecker product \n",
    "## of I and cnot (for the q2-q3 control-target case).\n",
    "cnot3 = np.array([ [0, 1, 0, 0, 0, 0, 0, 0],\n",
    "                   [1, 0, 0, 0, 0, 0, 0, 0],\n",
    "                   [0, 0, 1, 0, 0, 0, 0, 0],\n",
    "                   [0, 0, 0, 1, 0, 0, 0, 0],\n",
    "                   [0, 0, 0, 0, 1, 0, 0, 0],\n",
    "                   [0, 0, 0, 0, 0, 1, 0, 0],\n",
    "                   [0, 0, 0, 0, 0, 0, 0, 1],\n",
    "                   [0, 0, 0, 0, 0, 0, 1, 0]])"
   ]
  },
  {
   "cell_type": "code",
   "execution_count": 51,
   "metadata": {},
   "outputs": [
    {
     "data": {
      "text/plain": [
       "array([[0, 0, 1, 0],\n",
       "       [0, 0, 0, 1],\n",
       "       [1, 0, 0, 0],\n",
       "       [0, 1, 0, 0]])"
      ]
     },
     "execution_count": 51,
     "metadata": {},
     "output_type": "execute_result"
    }
   ],
   "source": [
    "build_gate_mat([Chi_gate, I_gate])"
   ]
  },
  {
   "cell_type": "code",
   "execution_count": 52,
   "metadata": {},
   "outputs": [
    {
     "data": {
      "text/plain": [
       "array([[0, 1, 0, 0],\n",
       "       [1, 0, 0, 0],\n",
       "       [0, 0, 0, 1],\n",
       "       [0, 0, 1, 0]])"
      ]
     },
     "execution_count": 52,
     "metadata": {},
     "output_type": "execute_result"
    }
   ],
   "source": [
    "build_gate_mat([I_gate, Chi_gate])"
   ]
  },
  {
   "cell_type": "code",
   "execution_count": 53,
   "metadata": {},
   "outputs": [],
   "source": [
    "g1 = build_gate_mat([I_gate, I_gate, H_gate])\n",
    "g2 = build_gate_mat([I_gate, cnot])\n",
    "g3 = build_gate_mat([I_gate, I_gate, dagger(T_gate)])\n",
    "g4 = cnot3\n",
    "g5 = build_gate_mat([I_gate, I_gate,T_gate])\n",
    "g6 = build_gate_mat([I_gate, cnot])\n",
    "g7 = build_gate_mat([I_gate, I_gate, dagger(T_gate)])\n",
    "g8 = cnot3\n",
    "g9 = build_gate_mat([I_gate, T_gate, T_gate])\n",
    "g10 = build_gate_mat([cnot, H_gate])\n",
    "g11 = build_gate_mat([T_gate,  dagger(T_gate), I_gate])\n",
    "g12 = build_gate_mat([cnot, I_gate])\n",
    "\n",
    "gs = [g1, g2, g3, g4, g5, g6, g7, g8, g9, g10, g11, g12]\n",
    "\n",
    "in_states = [ket_one, ket_one, ket_one] ## read qubits from bottom to top\n",
    "n_qubits = len(in_states)\n",
    "in_states.reverse()\n",
    "register = build_gate_mat(in_states) # |0>, |0>  2 Input qubits in the 0 computational basis state"
   ]
  },
  {
   "cell_type": "code",
   "execution_count": 54,
   "metadata": {},
   "outputs": [
    {
     "data": {
      "text/plain": [
       "(8, 8)"
      ]
     },
     "execution_count": 54,
     "metadata": {},
     "output_type": "execute_result"
    }
   ],
   "source": [
    "toffoli_gate = g1@g2@g3@g4@g5@g6@g7@g8@g9@g10@g11@g12\n",
    "toffoli_gate.shape"
   ]
  },
  {
   "cell_type": "code",
   "execution_count": 55,
   "metadata": {},
   "outputs": [
    {
     "data": {
      "text/plain": [
       "array([[ True,  True,  True,  True,  True,  True,  True,  True],\n",
       "       [ True,  True,  True,  True,  True,  True,  True,  True],\n",
       "       [ True,  True,  True,  True,  True,  True,  True,  True],\n",
       "       [ True,  True,  True,  True,  True,  True,  True,  True],\n",
       "       [ True,  True,  True,  True,  True,  True,  True,  True],\n",
       "       [ True,  True,  True,  True,  True,  True,  True,  True],\n",
       "       [ True,  True,  True,  True,  True,  True,  True,  True],\n",
       "       [ True,  True,  True,  True,  True,  True,  True,  True]])"
      ]
     },
     "execution_count": 55,
     "metadata": {},
     "output_type": "execute_result"
    }
   ],
   "source": [
    "def compose_circuit(gates):\n",
    "    n_qubits = int(np.log2(gates[0].shape[0]))\n",
    "    gout = np.identity(2**n_qubits)\n",
    "    for g in gs:\n",
    "        gout = gout@g\n",
    "    return gout\n",
    "\n",
    "toffoli_gate_composed = compose_circuit(gs)\n",
    "toffoli_gate_composed == toffoli_gate"
   ]
  },
  {
   "cell_type": "code",
   "execution_count": 56,
   "metadata": {},
   "outputs": [
    {
     "data": {
      "text/plain": [
       "array([ 0.00000000e+00+0.00000000e+00j,  0.00000000e+00+0.00000000e+00j,\n",
       "        0.00000000e+00+0.00000000e+00j,  0.00000000e+00+0.00000000e+00j,\n",
       "        0.00000000e+00+0.00000000e+00j,  0.00000000e+00+0.00000000e+00j,\n",
       "        1.00000000e+00-2.22044605e-16j, -2.29934717e-17+1.66533454e-16j])"
      ]
     },
     "execution_count": 56,
     "metadata": {},
     "output_type": "execute_result"
    }
   ],
   "source": [
    "out_register = register@toffoli_gate_composed\n",
    "out_register"
   ]
  },
  {
   "cell_type": "code",
   "execution_count": 57,
   "metadata": {},
   "outputs": [
    {
     "data": {
      "text/plain": [
       "array([0.00000000e+00, 0.00000000e+00, 0.00000000e+00, 0.00000000e+00,\n",
       "       0.00000000e+00, 0.00000000e+00, 1.00000000e+00, 2.82620909e-32])"
      ]
     },
     "execution_count": 57,
     "metadata": {},
     "output_type": "execute_result"
    }
   ],
   "source": [
    "basis_state_probs(out_register)"
   ]
  },
  {
   "cell_type": "code",
   "execution_count": 58,
   "metadata": {},
   "outputs": [
    {
     "data": {
      "image/png": "[encoded data removed]",
      "text/plain": [
       "<Figure size 432x288 with 1 Axes>"
      ]
     },
     "metadata": {
      "needs_background": "light"
     },
     "output_type": "display_data"
    }
   ],
   "source": [
    "plt_measure(out_register)"
   ]
  },
  {
   "cell_type": "code",
   "execution_count": 59,
   "metadata": {},
   "outputs": [
    {
     "data": {
      "image/png": "[encoded data removed]",
      "text/plain": [
       "<Figure size 432x288 with 1 Axes>"
      ]
     },
     "metadata": {
      "needs_background": "light"
     },
     "output_type": "display_data"
    }
   ],
   "source": [
    "in_states = [ket_zero, ket_one, ket_one] ## read qubits from bottom to top\n",
    "n_qubits = len(in_states)\n",
    "in_states.reverse()\n",
    "register = build_gate_mat(in_states) # |0>, |0>  2 Input qubits in the 0 computational basis state\n",
    "out_register = register@toffoli_gate_composed\n",
    "plt_measure(out_register)"
   ]
  },
  {
   "cell_type": "code",
   "execution_count": 60,
   "metadata": {},
   "outputs": [
    {
     "data": {
      "image/png": "[encoded data removed]",
      "text/plain": [
       "<Figure size 432x288 with 1 Axes>"
      ]
     },
     "metadata": {
      "needs_background": "light"
     },
     "output_type": "display_data"
    }
   ],
   "source": [
    "in_states = [ket_zero, ket_zero, ket_one] ## read qubits from bottom to top\n",
    "n_qubits = len(in_states)\n",
    "in_states.reverse()\n",
    "register = build_gate_mat(in_states) # |0>, |0>  2 Input qubits in the 0 computational basis state\n",
    "out_register = register@toffoli_gate_composed\n",
    "plt_measure(out_register)"
   ]
  },
  {
   "cell_type": "code",
   "execution_count": 61,
   "metadata": {},
   "outputs": [
    {
     "data": {
      "image/png": "[encoded data removed]",
      "text/plain": [
       "<Figure size 432x288 with 1 Axes>"
      ]
     },
     "metadata": {
      "needs_background": "light"
     },
     "output_type": "display_data"
    }
   ],
   "source": [
    "in_states = [ket_zero, ket_zero, ket_zero] ## read qubits from bottom to top\n",
    "n_qubits = len(in_states)\n",
    "in_states.reverse()\n",
    "register = build_gate_mat(in_states) # |0>, |0>  2 Input qubits in the 0 computational basis state\n",
    "out_register = register@toffoli_gate_composed\n",
    "plt_measure(out_register)"
   ]
  },
  {
   "cell_type": "code",
   "execution_count": null,
   "metadata": {},
   "outputs": [],
   "source": []
  }
 ],
 "metadata": {
  "kernelspec": {
   "display_name": "Python 3",
   "language": "python",
   "name": "python3"
  },
  "language_info": {
   "codemirror_mode": {
    "name": "ipython",
    "version": 3
   },
   "file_extension": ".py",
   "mimetype": "text/x-python",
   "name": "python",
   "nbconvert_exporter": "python",
   "pygments_lexer": "ipython3",
   "version": "3.7.3"
  }
 },
 "nbformat": 4,
 "nbformat_minor": 2
}
